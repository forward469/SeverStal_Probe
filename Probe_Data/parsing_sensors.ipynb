{
 "cells": [
  {
   "cell_type": "code",
   "execution_count": 2,
   "metadata": {},
   "outputs": [],
   "source": [
    "import os\n",
    "import pandas as pd\n",
    "import numpy as np"
   ]
  },
  {
   "cell_type": "code",
   "execution_count": 3,
   "metadata": {},
   "outputs": [],
   "source": [
    "import warnings\n",
    "warnings.filterwarnings(\"ignore\")"
   ]
  },
  {
   "cell_type": "code",
   "execution_count": 14,
   "metadata": {},
   "outputs": [
    {
     "name": "stdout",
     "output_type": "stream",
     "text": [
      "Введите имя папки:\n",
      "\n",
      "Выгрузка Февраль\n",
      "0602_1402.txt\n",
      "3101_0602.txt\n",
      "2402_2902.txt\n",
      "1502_2302.txt\n",
      "\n",
      "Введите имя для .csv файла:\n",
      "\n",
      "SensorsData_Febraury\n"
     ]
    }
   ],
   "source": [
    "print(\"Введите имя папки:\\n\")\n",
    "dir_name = input()\n",
    "\n",
    "DATA_DIR = f\"./{dir_name}/\"\n",
    "\n",
    "Result_DF = pd.DataFrame([])\n",
    "for filename in os.listdir(DATA_DIR):\n",
    "    print(filename)\n",
    "    df = pd.read_csv(os.path.join(DATA_DIR, filename), sep=';', encoding='cp1251')\n",
    "    values = df.iloc[1:,1:19].applymap(lambda x: str(x).replace(',','.')).values\n",
    "    inds = df.Time[1:]\n",
    "    cols = [c[14:] for c in df.iloc[0,1:19].values]\n",
    "    \n",
    "    df = pd.DataFrame(values, columns=cols, index=inds)\n",
    "    \n",
    "    Result_DF = pd.concat([Result_DF, df], axis=0)\n",
    "\n",
    "Result_DF = Result_DF.astype(float)\n",
    "\n",
    "print(\"\\nВведите имя для .csv файла:\\n\") # Example : SensorsData_Febraury.csv\n",
    "csv_name = input()\n",
    "\n",
    "Result_DF.to_csv(f\"{csv_name}.csv\")"
   ]
  },
  {
   "cell_type": "code",
   "execution_count": 23,
   "metadata": {},
   "outputs": [
    {
     "data": {
      "text/plain": [
       "Time\n",
       "15.02.2020 00:11:52.200000    3.00962\n",
       "15.02.2020 00:11:53.200000    3.01251\n",
       "15.02.2020 00:11:54.200000    3.01396\n",
       "15.02.2020 00:11:55.200000    3.01975\n",
       "15.02.2020 00:11:56.200000    3.00733\n",
       "                               ...   \n",
       "24.02.2020 00:11:28.200000    2.94164\n",
       "24.02.2020 00:11:29.200000    2.93475\n",
       "24.02.2020 00:11:30.200000     2.9333\n",
       "24.02.2020 00:11:31.200000    2.95754\n",
       "24.02.2020 00:11:32.200000    2.94465\n",
       "Name: Давление маслостанции, Length: 777581, dtype: object"
      ]
     },
     "execution_count": 23,
     "metadata": {},
     "output_type": "execute_result"
    }
   ],
   "source": [
    "df.iloc[:, -4]"
   ]
  },
  {
   "cell_type": "code",
   "execution_count": null,
   "metadata": {},
   "outputs": [],
   "source": []
  }
 ],
 "metadata": {
  "kernelspec": {
   "display_name": "Python 3",
   "language": "python",
   "name": "python3"
  },
  "language_info": {
   "codemirror_mode": {
    "name": "ipython",
    "version": 3
   },
   "file_extension": ".py",
   "mimetype": "text/x-python",
   "name": "python",
   "nbconvert_exporter": "python",
   "pygments_lexer": "ipython3",
   "version": "3.7.5"
  }
 },
 "nbformat": 4,
 "nbformat_minor": 2
}
