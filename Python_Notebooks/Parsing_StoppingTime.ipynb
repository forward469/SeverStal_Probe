{
 "cells": [
  {
   "cell_type": "code",
   "execution_count": 1,
   "metadata": {},
   "outputs": [
    {
     "name": "stderr",
     "output_type": "stream",
     "text": [
      "/opt/miniconda3/envs/py37/lib/python3.7/site-packages/statsmodels/tools/_testing.py:19: FutureWarning: pandas.util.testing is deprecated. Use the functions in the public API at pandas.testing instead.\n",
      "  import pandas.util.testing as tm\n"
     ]
    }
   ],
   "source": [
    "import os\n",
    "import pandas as pd\n",
    "import xlrd\n",
    "import numpy as np\n",
    "\n",
    "import matplotlib.pyplot as plt\n",
    "import seaborn as sns"
   ]
  },
  {
   "cell_type": "code",
   "execution_count": 2,
   "metadata": {},
   "outputs": [],
   "source": [
    "pd.options.display.max_rows = 55\n",
    "pd.options.display.max_columns = 55"
   ]
  },
  {
   "cell_type": "code",
   "execution_count": 3,
   "metadata": {},
   "outputs": [
    {
     "name": "stdout",
     "output_type": "stream",
     "text": [
      "Февраль.xlsx\n",
      ".DS_Store\n",
      "SensorsData.csv\n",
      "10 фераля _избранные сигналы.txt\n",
      "Febraury_PredData.csv\n",
      "2020_02_10_PrepData.csv\n",
      "Febraury_StopLog.csv\n",
      ".ipynb_checkpoints\n"
     ]
    }
   ],
   "source": [
    "ROOT_DIR = \"/Users/pus/ML/Лаборатория/СеверСталь/Probe/\"\n",
    "DIR_PATH = \"Probe_Data/\"\n",
    "for filename in os.listdir(ROOT_DIR + DIR_PATH):\n",
    "    print(filename)"
   ]
  },
  {
   "cell_type": "code",
   "execution_count": 4,
   "metadata": {},
   "outputs": [],
   "source": [
    "xl = pd.ExcelFile(''.join([ROOT_DIR, DIR_PATH ,\"Февраль.xlsx\"]))"
   ]
  },
  {
   "cell_type": "markdown",
   "metadata": {},
   "source": [
    "<div class = \"alert alert-block alert-info\">\n",
    "\n",
    "<b>Определение величин</b>:\n",
    "* `DayShiftTimes_inds, tuple(first, second)` : индексы исходной таблицы журнальных записей, определяющие блок строк, отвечающих за времена остановки оборудования в <b>дневную смену</b>\n",
    "    \n",
    "* `NightShiftTimes_inds, tuple(first, second)` : индексы исходной таблицы журнальных записей, определяющие блок строк, отвечающих за времена остановки оборудования в <b>ночную смену</b>\n",
    "\n",
    "* `Reason_ind, int` : индекс колонки содержащей <b>причины</b> остановки\n",
    "    \n",
    "* `Begin_ind, int` : индекс колонки содержащей время <b>начала</b> остановки\n",
    "    \n",
    "* `End_ind, int` : индекс колонки содержащей время <b>конца</b> остановки\n",
    "    \n",
    "* `Duration_ind, int` : индекс колонки содержащей <b>продолжительность</b> остановки\n",
    "\n",
    "</div>"
   ]
  },
  {
   "cell_type": "code",
   "execution_count": 11,
   "metadata": {},
   "outputs": [],
   "source": [
    "DayShiftTimes_inds = (4,6) \n",
    "NightShiftTimes_inds = (14,16)\n",
    "\n",
    "Reason_ind = 8\n",
    "Begin_ind = 12\n",
    "End_ind = 13\n",
    "Duration_ind = 14\n",
    "\n",
    "Result_Log = pd.DataFrame(columns=[\"Reason\", \"Begin\", \"End\", \"Duration\"])\n",
    "for day in range(1,29):\n",
    "    log_df = xl.parse(str(day), header=0)\n",
    "    \n",
    "    \n",
    "    # Парсинг величин в дневную смену\n",
    "    DST_Reasons = log_df.iloc[slice(*DayShiftTimes_inds), Reason_ind].dropna().values\n",
    "    DST_Begin = log_df.iloc[slice(*DayShiftTimes_inds), Begin_ind].dropna().values\n",
    "    DST_Begin = np.array([pd.to_datetime(f\"2020/02/{day+1} {T.hour}:{T.minute}:00\", format = \"%Y/%m/%d\", yearfirst=True) \\\n",
    "                          if (0 <= int(T.hour) <= 6) \\\n",
    "                          else pd.to_datetime(f\"2020/02/{day} {T.hour}:{T.minute}:00\", format = \"%Y/%m/%d\", yearfirst=True) \\\n",
    "                          for T in DST_Begin])\n",
    "    DST_End = log_df.iloc[slice(*DayShiftTimes_inds), End_ind].dropna().values\n",
    "    DST_End = np.array([pd.to_datetime(f\"2020/02/{day+1} {T.hour}:{T.minute}:00\", format = \"%Y/%m/%d\", yearfirst=True) \\\n",
    "                          if (0 <= int(T.hour) <= 6) \\\n",
    "                          else pd.to_datetime(f\"2020/02/{day} {T.hour}:{T.minute}:00\", format = \"%Y/%m/%d\", yearfirst=True) \\\n",
    "                          for T in DST_End])\n",
    "    DST_Duration = log_df.iloc[slice(*DayShiftTimes_inds), Duration_ind].dropna().values\n",
    "    \n",
    "    \n",
    "    # Парсинг величин в ночную смену\n",
    "    NST_Reasons = log_df.iloc[slice(*NightShiftTimes_inds), Reason_ind].dropna().values\n",
    "    NST_Begin = log_df.iloc[slice(*NightShiftTimes_inds), Begin_ind].dropna().values\n",
    "    NST_Begin = np.array([pd.to_datetime(f\"2020/02/{day+1} {T.hour}:{T.minute}:00\", format = \"%Y/%m/%d\", yearfirst=True) \\\n",
    "                          if (0 <= int(T.hour) <= 6) \\\n",
    "                          else pd.to_datetime(f\"2020/02/{day} {T.hour}:{T.minute}:00\", format = \"%Y/%m/%d\", yearfirst=True) \\\n",
    "                          for T in NST_Begin])\n",
    "    NST_End = log_df.iloc[slice(*NightShiftTimes_inds), End_ind].dropna().values\n",
    "    NST_End = np.array([pd.to_datetime(f\"2020/02/{day+1} {T.hour}:{T.minute}:00\", format = \"%Y/%m/%d\", yearfirst=True) \\\n",
    "                          if (0 <= int(T.hour) <= 6) \\\n",
    "                          else pd.to_datetime(f\"2020/02/{day} {T.hour}:{T.minute}:00\", format = \"%Y/%m/%d\", yearfirst=True) \\\n",
    "                          for T in NST_End])\n",
    "    NST_Duration = log_df.iloc[slice(*NightShiftTimes_inds), Duration_ind].dropna().values\n",
    "    \n",
    "    # Конкатенация данных за дневную и ночную смены и конвертация в pd.DataFrame\n",
    "    day_data = pd.DataFrame(\\\n",
    "    list(zip(DST_Reasons,\n",
    "             DST_Begin,\n",
    "             DST_End,\n",
    "             DST_Duration)) \\\n",
    "    + \\\n",
    "    list(zip(NST_Reasons,\n",
    "             NST_Begin,\n",
    "             NST_End,\n",
    "             NST_Duration))\n",
    "                           ,columns=[\"Reason\", \"Begin\", \"End\", \"Duration\"])\n",
    "    \n",
    "    Result_Log = pd.concat([Result_Log, day_data], axis=0, ignore_index=True)"
   ]
  },
  {
   "cell_type": "code",
   "execution_count": 19,
   "metadata": {
    "scrolled": true
   },
   "outputs": [
    {
     "data": {
      "text/html": [
       "<div>\n",
       "<style scoped>\n",
       "    .dataframe tbody tr th:only-of-type {\n",
       "        vertical-align: middle;\n",
       "    }\n",
       "\n",
       "    .dataframe tbody tr th {\n",
       "        vertical-align: top;\n",
       "    }\n",
       "\n",
       "    .dataframe thead th {\n",
       "        text-align: right;\n",
       "    }\n",
       "</style>\n",
       "<table border=\"1\" class=\"dataframe\">\n",
       "  <thead>\n",
       "    <tr style=\"text-align: right;\">\n",
       "      <th></th>\n",
       "      <th>Reason</th>\n",
       "      <th>Begin</th>\n",
       "      <th>End</th>\n",
       "      <th>Duration</th>\n",
       "    </tr>\n",
       "  </thead>\n",
       "  <tbody>\n",
       "    <tr>\n",
       "      <th>0</th>\n",
       "      <td>ппр</td>\n",
       "      <td>2020-02-06 10:25:00</td>\n",
       "      <td>2020-02-06 13:25:00</td>\n",
       "      <td>03:00:00</td>\n",
       "    </tr>\n",
       "    <tr>\n",
       "      <th>1</th>\n",
       "      <td>вибрация</td>\n",
       "      <td>2020-02-10 10:55:00</td>\n",
       "      <td>2020-02-10 11:10:00</td>\n",
       "      <td>00:15:00</td>\n",
       "    </tr>\n",
       "    <tr>\n",
       "      <th>2</th>\n",
       "      <td>вибрация</td>\n",
       "      <td>2020-02-12 03:55:00</td>\n",
       "      <td>2020-02-12 04:10:00</td>\n",
       "      <td>00:15:00</td>\n",
       "    </tr>\n",
       "    <tr>\n",
       "      <th>3</th>\n",
       "      <td>ппр</td>\n",
       "      <td>2020-02-12 09:03:00</td>\n",
       "      <td>2020-02-12 11:50:00</td>\n",
       "      <td>02:47:00</td>\n",
       "    </tr>\n",
       "    <tr>\n",
       "      <th>4</th>\n",
       "      <td>вибрация</td>\n",
       "      <td>2020-02-13 11:00:00</td>\n",
       "      <td>2020-02-13 14:05:00</td>\n",
       "      <td>03:05:00</td>\n",
       "    </tr>\n",
       "    <tr>\n",
       "      <th>5</th>\n",
       "      <td>летка</td>\n",
       "      <td>2020-02-14 09:30:00</td>\n",
       "      <td>2020-02-14 10:20:00</td>\n",
       "      <td>00:50:00</td>\n",
       "    </tr>\n",
       "    <tr>\n",
       "      <th>6</th>\n",
       "      <td>вибрация</td>\n",
       "      <td>2020-02-16 10:05:00</td>\n",
       "      <td>2020-02-16 10:20:00</td>\n",
       "      <td>00:15:00</td>\n",
       "    </tr>\n",
       "    <tr>\n",
       "      <th>7</th>\n",
       "      <td>вибрация</td>\n",
       "      <td>2020-02-16 11:05:00</td>\n",
       "      <td>2020-02-16 11:20:00</td>\n",
       "      <td>00:15:00</td>\n",
       "    </tr>\n",
       "    <tr>\n",
       "      <th>8</th>\n",
       "      <td>ппр</td>\n",
       "      <td>2020-02-17 09:35:00</td>\n",
       "      <td>2020-02-17 11:51:00</td>\n",
       "      <td>02:16:00</td>\n",
       "    </tr>\n",
       "    <tr>\n",
       "      <th>9</th>\n",
       "      <td>ппр</td>\n",
       "      <td>2020-02-17 23:05:00</td>\n",
       "      <td>2020-02-18 03:40:00</td>\n",
       "      <td>04:35:00</td>\n",
       "    </tr>\n",
       "    <tr>\n",
       "      <th>10</th>\n",
       "      <td>вибрация</td>\n",
       "      <td>2020-02-18 09:00:00</td>\n",
       "      <td>2020-02-18 09:15:00</td>\n",
       "      <td>00:15:00</td>\n",
       "    </tr>\n",
       "    <tr>\n",
       "      <th>11</th>\n",
       "      <td>вибрация</td>\n",
       "      <td>2020-02-18 23:28:00</td>\n",
       "      <td>2020-02-18 23:44:00</td>\n",
       "      <td>00:16:00</td>\n",
       "    </tr>\n",
       "    <tr>\n",
       "      <th>12</th>\n",
       "      <td>вибрация</td>\n",
       "      <td>2020-02-20 02:00:00</td>\n",
       "      <td>2020-02-20 02:15:00</td>\n",
       "      <td>00:15:00</td>\n",
       "    </tr>\n",
       "    <tr>\n",
       "      <th>13</th>\n",
       "      <td>ппр</td>\n",
       "      <td>2020-02-20 10:10:00</td>\n",
       "      <td>2020-02-20 14:50:00</td>\n",
       "      <td>04:40:00</td>\n",
       "    </tr>\n",
       "    <tr>\n",
       "      <th>14</th>\n",
       "      <td>вибрация</td>\n",
       "      <td>2020-02-22 19:58:00</td>\n",
       "      <td>2020-02-22 20:11:00</td>\n",
       "      <td>00:13:00</td>\n",
       "    </tr>\n",
       "    <tr>\n",
       "      <th>15</th>\n",
       "      <td>летка</td>\n",
       "      <td>2020-02-23 12:20:00</td>\n",
       "      <td>2020-02-23 13:10:00</td>\n",
       "      <td>00:50:00</td>\n",
       "    </tr>\n",
       "    <tr>\n",
       "      <th>16</th>\n",
       "      <td>вибрация</td>\n",
       "      <td>2020-02-27 19:35:00</td>\n",
       "      <td>2020-02-27 19:50:00</td>\n",
       "      <td>00:15:00</td>\n",
       "    </tr>\n",
       "    <tr>\n",
       "      <th>17</th>\n",
       "      <td>вибрация</td>\n",
       "      <td>2020-02-28 08:25:00</td>\n",
       "      <td>2020-02-28 08:40:00</td>\n",
       "      <td>00:15:00</td>\n",
       "    </tr>\n",
       "    <tr>\n",
       "      <th>18</th>\n",
       "      <td>вибрация</td>\n",
       "      <td>2020-02-28 20:30:00</td>\n",
       "      <td>2020-02-28 21:25:00</td>\n",
       "      <td>00:55:00</td>\n",
       "    </tr>\n",
       "  </tbody>\n",
       "</table>\n",
       "</div>"
      ],
      "text/plain": [
       "      Reason               Begin                 End Duration\n",
       "0        ппр 2020-02-06 10:25:00 2020-02-06 13:25:00 03:00:00\n",
       "1   вибрация 2020-02-10 10:55:00 2020-02-10 11:10:00 00:15:00\n",
       "2   вибрация 2020-02-12 03:55:00 2020-02-12 04:10:00 00:15:00\n",
       "3        ппр 2020-02-12 09:03:00 2020-02-12 11:50:00 02:47:00\n",
       "4   вибрация 2020-02-13 11:00:00 2020-02-13 14:05:00 03:05:00\n",
       "5      летка 2020-02-14 09:30:00 2020-02-14 10:20:00 00:50:00\n",
       "6   вибрация 2020-02-16 10:05:00 2020-02-16 10:20:00 00:15:00\n",
       "7   вибрация 2020-02-16 11:05:00 2020-02-16 11:20:00 00:15:00\n",
       "8        ппр 2020-02-17 09:35:00 2020-02-17 11:51:00 02:16:00\n",
       "9        ппр 2020-02-17 23:05:00 2020-02-18 03:40:00 04:35:00\n",
       "10  вибрация 2020-02-18 09:00:00 2020-02-18 09:15:00 00:15:00\n",
       "11  вибрация 2020-02-18 23:28:00 2020-02-18 23:44:00 00:16:00\n",
       "12  вибрация 2020-02-20 02:00:00 2020-02-20 02:15:00 00:15:00\n",
       "13       ппр 2020-02-20 10:10:00 2020-02-20 14:50:00 04:40:00\n",
       "14  вибрация 2020-02-22 19:58:00 2020-02-22 20:11:00 00:13:00\n",
       "15     летка 2020-02-23 12:20:00 2020-02-23 13:10:00 00:50:00\n",
       "16  вибрация 2020-02-27 19:35:00 2020-02-27 19:50:00 00:15:00\n",
       "17  вибрация 2020-02-28 08:25:00 2020-02-28 08:40:00 00:15:00\n",
       "18  вибрация 2020-02-28 20:30:00 2020-02-28 21:25:00 00:55:00"
      ]
     },
     "execution_count": 19,
     "metadata": {},
     "output_type": "execute_result"
    }
   ],
   "source": [
    "Result_Log.Duration = (Result_Log.End - Result_Log.Begin).values\n",
    "Result_Log"
   ]
  },
  {
   "cell_type": "code",
   "execution_count": 20,
   "metadata": {},
   "outputs": [],
   "source": [
    "Result_Log.Reason = Result_Log.Reason.apply(lambda x: x.lower()).values"
   ]
  },
  {
   "cell_type": "code",
   "execution_count": 21,
   "metadata": {},
   "outputs": [],
   "source": [
    "Result_Log.to_csv(\"../Probe_Data/Febraury_StopLog.csv\", index=0)"
   ]
  },
  {
   "cell_type": "markdown",
   "metadata": {},
   "source": [
    "## Немного статистики"
   ]
  },
  {
   "cell_type": "code",
   "execution_count": 22,
   "metadata": {},
   "outputs": [],
   "source": [
    "%config InlineBackend.figure_format = \"retina\""
   ]
  },
  {
   "cell_type": "code",
   "execution_count": 23,
   "metadata": {},
   "outputs": [
    {
     "data": {
      "text/plain": [
       "вибрация    12\n",
       "ппр          5\n",
       "летка        2\n",
       "Name: Reason, dtype: int64"
      ]
     },
     "execution_count": 23,
     "metadata": {},
     "output_type": "execute_result"
    }
   ],
   "source": [
    "reasons_count\n"
   ]
  },
  {
   "cell_type": "code",
   "execution_count": 24,
   "metadata": {},
   "outputs": [
    {
     "data": {
      "text/plain": [
       "<matplotlib.axes._subplots.AxesSubplot at 0x7f941b302e10>"
      ]
     },
     "execution_count": 24,
     "metadata": {},
     "output_type": "execute_result"
    },
    {
     "data": {
      "image/png": "[encoded data removed]",
      "text/plain": [
       "<Figure size 1008x360 with 1 Axes>"
      ]
     },
     "metadata": {
      "image/png": {
       "height": 322,
       "width": 815
      },
      "needs_background": "light"
     },
     "output_type": "display_data"
    }
   ],
   "source": [
    "reasons_count = Result_Log.Reason.value_counts()\n",
    "Reasons = [\"Вибрация\", \"ППР\", \"Летка\"]\n",
    "plt.figure(figsize=(14,5))\n",
    "plt.title(\"Распределение причин остановок\")\n",
    "plt.xticks(fontsize=13)\n",
    "sns.barplot(x = Reasons, y=reasons_count.values)"
   ]
  },
  {
   "cell_type": "code",
   "execution_count": 25,
   "metadata": {},
   "outputs": [
    {
     "data": {
      "text/plain": [
       "<matplotlib.legend.Legend at 0x7f941b31df90>"
      ]
     },
     "execution_count": 25,
     "metadata": {},
     "output_type": "execute_result"
    },
    {
     "data": {
      "image/png": "[encoded data removed]",
      "text/plain": [
       "<Figure size 576x360 with 1 Axes>"
      ]
     },
     "metadata": {
      "image/png": {
       "height": 318,
       "width": 474
      },
      "needs_background": "light"
     },
     "output_type": "display_data"
    }
   ],
   "source": [
    "import seaborn as sns\n",
    "stops_per_day = Result_Log.Begin.apply(lambda x: x.day).value_counts()\n",
    "days = stops_per_day.value_counts()\n",
    "plt.figure(figsize=(8,5))\n",
    "plt.title(\"Распредление количества остановок в день\")\n",
    "sns.barplot(x = days.index, y=days.values)\n",
    "plt.legend([f\"В среднем в день {stops_per_day.mean():.2f} остановок\",\n",
    "            f\"Всего остановок за Февраль: {stops_per_day.sum()}\"])"
   ]
  }
 ],
 "metadata": {
  "kernelspec": {
   "display_name": "Python 3",
   "language": "python",
   "name": "python3"
  },
  "language_info": {
   "codemirror_mode": {
    "name": "ipython",
    "version": 3
   },
   "file_extension": ".py",
   "mimetype": "text/x-python",
   "name": "python",
   "nbconvert_exporter": "python",
   "pygments_lexer": "ipython3",
   "version": "3.7.5"
  }
 },
 "nbformat": 4,
 "nbformat_minor": 2
}
